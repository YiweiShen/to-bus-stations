{
 "cells": [
  {
   "cell_type": "code",
   "execution_count": 4,
   "metadata": {},
   "outputs": [],
   "source": [
    "import requests\n",
    "import json"
   ]
  },
  {
   "cell_type": "code",
   "execution_count": 9,
   "metadata": {},
   "outputs": [
    {
     "name": "stdout",
     "output_type": "stream",
     "text": [
      "[7, 8, 9, 10, 11, 12, 13, 14, 15, 16, 17, 19, 20, 21, 22, 23, 24, 25, 26, 28, 29, 30, 31, 32, 33, 34, 35, 36, 37, 38, 39, 40, 41, 42, 43, 44, 45, 46, 47, 48, 49, 50, 51, 52, 53, 54, 55, 56, 57, 59, 60, 61, 62, 63, 64, 65, 66, 67, 68, 69, 70, 71, 72, 73, 74, 75, 76, 77, 78, 79, 80, 82, 83, 84, 85, 86, 87, 88, 89, 90, 91, 92, 93, 94, 95, 96, 97, 98, 99, 100, 101, 102, 104, 105, 106, 107, 108, 109, 110, 111, 112, 113, 114, 115, 116, 118, 119, 120, 121, 122, 123, 125, 126, 127, 128, 129, 130, 131, 132, 133, 134, 135, 160, 161, 162, 165, 167, 168, 169, 171, 176, 184, 189, 200, 201, 202, 203, 300, 301, 302, 304, 305, 306, 307, 310, 312, 315, 320, 322, 324, 325, 329, 332, 334, 335, 336, 337, 339, 340, 341, 343, 352, 353, 354, 363, 365, 384, 385, 395, 396, 501, 503, 504, 505, 506, 507, 508, 509, 510, 511, 512, 900, 902, 903, 905, 924, 925, 927, 929, 935, 937, 939, 941, 945, 952, 953, 954, 960, 968, 984, 985, 986, 989, 995, 996]\n"
     ]
    }
   ],
   "source": [
    "# Part 1: get a list of routes\n",
    "\n",
    "with open('../data/routes.json', 'r') as f:\n",
    "  data = json.load(f)\n",
    "\n",
    "routes = []\n",
    "for route in data['route']:\n",
    "  routes.append(int(route['tag']))\n",
    "\n",
    "print(routes)\n"
   ]
  },
  {
   "cell_type": "code",
   "execution_count": 11,
   "metadata": {},
   "outputs": [],
   "source": [
    "# Part 2: get the stops from each lines\n",
    "\n",
    "for route in routes:\n",
    "  # making a GET request\n",
    "  response = requests.get('https://retro.umoiq.com/service/publicJSONFeed?command=routeConfig&a=ttc&r=' + str(route))\n",
    "  # store the result into a json file.\n",
    "  with open('../data/ttc/' + str(route) + '.json', 'w') as outfile:\n",
    "    json.dump(response.json(), outfile)"
   ]
  }
 ],
 "metadata": {
  "kernelspec": {
   "display_name": "Python 3",
   "language": "python",
   "name": "python3"
  },
  "language_info": {
   "codemirror_mode": {
    "name": "ipython",
    "version": 3
   },
   "file_extension": ".py",
   "mimetype": "text/x-python",
   "name": "python",
   "nbconvert_exporter": "python",
   "pygments_lexer": "ipython3",
   "version": "3.11.9"
  }
 },
 "nbformat": 4,
 "nbformat_minor": 2
}
