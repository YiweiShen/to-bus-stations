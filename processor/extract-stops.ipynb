{
 "cells": [
  {
   "cell_type": "code",
   "execution_count": 1,
   "metadata": {},
   "outputs": [],
   "source": [
    "import json"
   ]
  },
  {
   "cell_type": "code",
   "execution_count": 2,
   "metadata": {},
   "outputs": [],
   "source": [
    "# Part 1: get a list of routes\n",
    "\n",
    "with open('../data/ttc-routes.json', 'r') as f:\n",
    "  data = json.load(f)\n",
    "\n",
    "routes = []\n",
    "for route in data['route']:\n",
    "  routes.append(int(route['tag']))"
   ]
  },
  {
   "cell_type": "code",
   "execution_count": 8,
   "metadata": {},
   "outputs": [],
   "source": [
    "# Part 2: group all stop info together\n",
    "\n",
    "route_dictionary = {}\n",
    "\n",
    "data_path = '../data/ttc/'\n",
    "\n",
    "for route in routes:\n",
    "    with open('../data/ttc/' + str(route) + '.json', 'r') as f:\n",
    "        data = json.load(f)\n",
    "\n",
    "    stops = []\n",
    "    for stop in data['route']['stop']:\n",
    "        if(stop.get('stopId', None)):\n",
    "            stopId = stop['stopId']\n",
    "            stops.append(stopId)\n",
    "            if stopId in route_dictionary:\n",
    "                route_dictionary[stopId]['lines'].append(route)\n",
    "            else:\n",
    "                route_dictionary[stopId] = {'lon': stop['lon'], 'lat': stop['lat'], 'title': stop['title'], 'lines':[route]}\n",
    "\n",
    "route_array = [{**value, 'id': key} for key, value in route_dictionary.items()]\n",
    "\n",
    "with open(data_path + 'stops.json', 'w') as json_file:\n",
    "    json.dump(route_array, json_file)"
   ]
  }
 ],
 "metadata": {
  "kernelspec": {
   "display_name": "Python 3",
   "language": "python",
   "name": "python3"
  },
  "language_info": {
   "codemirror_mode": {
    "name": "ipython",
    "version": 3
   },
   "file_extension": ".py",
   "mimetype": "text/x-python",
   "name": "python",
   "nbconvert_exporter": "python",
   "pygments_lexer": "ipython3",
   "version": "3.11.9"
  }
 },
 "nbformat": 4,
 "nbformat_minor": 2
}
