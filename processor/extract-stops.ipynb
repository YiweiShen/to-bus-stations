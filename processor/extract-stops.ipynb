{
 "cells": [
  {
   "cell_type": "code",
   "execution_count": 4,
   "metadata": {},
   "outputs": [],
   "source": [
    "import json"
   ]
  },
  {
   "cell_type": "code",
   "execution_count": 5,
   "metadata": {},
   "outputs": [],
   "source": [
    "# Part 1: get a list of routes\n",
    "\n",
    "with open('../data/routes.json', 'r') as f:\n",
    "  data = json.load(f)\n",
    "\n",
    "routes = []\n",
    "for route in data['route']:\n",
    "  routes.append(int(route['tag']))"
   ]
  },
  {
   "cell_type": "code",
   "execution_count": 6,
   "metadata": {},
   "outputs": [],
   "source": [
    "# Part 2: group all stop info together\n",
    "\n",
    "route_dictionary = {}\n",
    "\n",
    "data_path = '../data/ttc/'\n",
    "\n",
    "for route in routes:\n",
    "    with open('../data/ttc/' + str(route) + '.json', 'r') as f:\n",
    "        data = json.load(f)\n",
    "\n",
    "    stops = []\n",
    "    for stop in data['route']['stop']:\n",
    "        stopTag = stop['tag']\n",
    "        stops.append(stopTag)\n",
    "        route_dictionary[stopTag] = {'lon': stop['lon'], 'lat': stop['lat'], 'title': stop['title']}\n",
    "\n",
    "with open(data_path + 'stops.json', 'w') as json_file:\n",
    "    json.dump(route_dictionary, json_file)"
   ]
  }
 ],
 "metadata": {
  "kernelspec": {
   "display_name": "Python 3",
   "language": "python",
   "name": "python3"
  },
  "language_info": {
   "codemirror_mode": {
    "name": "ipython",
    "version": 3
   },
   "file_extension": ".py",
   "mimetype": "text/x-python",
   "name": "python",
   "nbconvert_exporter": "python",
   "pygments_lexer": "ipython3",
   "version": "3.11.9"
  }
 },
 "nbformat": 4,
 "nbformat_minor": 2
}
